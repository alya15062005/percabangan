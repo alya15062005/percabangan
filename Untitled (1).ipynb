{
 "cells": [
  {
   "cell_type": "code",
   "execution_count": 1,
   "id": "0039edcb-b2c5-4eb8-a92e-edfeb784d15b",
   "metadata": {},
   "outputs": [
    {
     "name": "stdin",
     "output_type": "stream",
     "text": [
      "Masukkan nomor punggung:  10\n"
     ]
    },
    {
     "name": "stdout",
     "output_type": "stream",
     "text": [
      "Pemain dengan nomor punggung 10 adalah seorang Target Attacker\n"
     ]
    }
   ],
   "source": [
    "#input nomor punggung\n",
    "nomor_punggung = int(input(\"Masukkan nomor punggung: \"))\n",
    "\n",
    "# hasil posisi\n",
    "posisi = \"\"\n",
    "\n",
    "# pengecekan\n",
    "if nomor_punggung % 2 == 0:\n",
    "    if nomor_punggung >= 50 and nomor_punggung <= 100:\n",
    "        posisi = \"Capten Team\"\n",
    "    else:\n",
    "        posisi = \"Target Attacker\"\n",
    "elif nomor_punggung % 2 != 0:\n",
    "    if nomor_punggung % 3 == 0 or nomor_punggung % 5 == 0:\n",
    "        posisi = \"Keeper\"\n",
    "    elif nomor_punggung > 90:\n",
    "        posisi = \"Playmaker\"\n",
    "    else:\n",
    "        posisi = \"Defender\"\n",
    "else:\n",
    "    posisi = \"Posisi tidak diketahui\"\n",
    "\n",
    "# output\n",
    "if posisi != \"Posisi tidak diketahui\":\n",
    "    print(f\"Pemain dengan nomor punggung {nomor_punggung} adalah seorang {posisi}\")\n",
    "else:\n",
    "    print(\"Nomor punggung tidak valid atau tidak sesuai dengan aturan\")"
   ]
  },
  {
   "cell_type": "code",
   "execution_count": null,
   "id": "d1b5d5b8-0d1e-45ea-a4c9-14e2388dc8c3",
   "metadata": {},
   "outputs": [],
   "source": []
  }
 ],
 "metadata": {
  "kernelspec": {
   "display_name": "Python 3 (ipykernel)",
   "language": "python",
   "name": "python3"
  },
  "language_info": {
   "codemirror_mode": {
    "name": "ipython",
    "version": 3
   },
   "file_extension": ".py",
   "mimetype": "text/x-python",
   "name": "python",
   "nbconvert_exporter": "python",
   "pygments_lexer": "ipython3",
   "version": "3.11.7"
  }
 },
 "nbformat": 4,
 "nbformat_minor": 5
}
